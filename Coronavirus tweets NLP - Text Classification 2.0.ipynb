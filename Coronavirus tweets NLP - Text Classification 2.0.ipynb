{
 "cells": [
  {
   "cell_type": "code",
   "execution_count": 73,
   "id": "b91cb6fc",
   "metadata": {},
   "outputs": [],
   "source": [
    "#Importing Importent Libraries\n",
    "import pandas as pd\n",
    "import time\n",
    "import re\n",
    "import numpy as np\n",
    "import random\n",
    "import seaborn as sns\n",
    "import matplotlib.pyplot as plt\n",
    "%matplotlib inline\n",
    "\n",
    "#Text Preprocessing\n",
    "import nltk\n",
    "from nltk.stem import WordNetLemmatizer\n",
    "from nltk.corpus import stopwords\n",
    "from sklearn.feature_extraction.text import CountVectorizer\n",
    "from sklearn.model_selection import train_test_split\n",
    "\n",
    "#Model Train and Evaluate\n",
    "from sklearn.metrics import classification_report , accuracy_score , confusion_matrix , plot_roc_curve\n",
    "from sklearn.svm import SVC\n",
    "\n",
    "import warnings as wr\n",
    "wr.filterwarnings(\"ignore\")"
   ]
  },
  {
   "cell_type": "code",
   "execution_count": 5,
   "id": "c86f6c20",
   "metadata": {},
   "outputs": [],
   "source": [
    "#Import Dataset\n",
    "\n",
    "train_data = pd.read_csv(\"Corona_NLP_train.csv\",encoding=\"latin1\")\n",
    "test_data = pd.read_csv(\"Corona_NLP_test.csv\",encoding=\"latin1\")"
   ]
  },
  {
   "cell_type": "code",
   "execution_count": 7,
   "id": "00f64554",
   "metadata": {},
   "outputs": [
    {
     "name": "stdout",
     "output_type": "stream",
     "text": [
      "Train Dataset Shape : (41157, 6)\n",
      "Test Dataset Shape : (3798, 6)\n"
     ]
    }
   ],
   "source": [
    "#Dataset Exploration\n",
    "\n",
    "print(f\"Train Dataset Shape : {train_data.shape}\\nTest Dataset Shape : {test_data.shape}\")"
   ]
  },
  {
   "cell_type": "code",
   "execution_count": 8,
   "id": "197e7496",
   "metadata": {},
   "outputs": [
    {
     "name": "stdout",
     "output_type": "stream",
     "text": [
      "<class 'pandas.core.frame.DataFrame'>\n",
      "RangeIndex: 41157 entries, 0 to 41156\n",
      "Data columns (total 6 columns):\n",
      " #   Column         Non-Null Count  Dtype \n",
      "---  ------         --------------  ----- \n",
      " 0   UserName       41157 non-null  int64 \n",
      " 1   ScreenName     41157 non-null  int64 \n",
      " 2   Location       32567 non-null  object\n",
      " 3   TweetAt        41157 non-null  object\n",
      " 4   OriginalTweet  41157 non-null  object\n",
      " 5   Sentiment      41157 non-null  object\n",
      "dtypes: int64(2), object(4)\n",
      "memory usage: 1.9+ MB\n"
     ]
    }
   ],
   "source": [
    "train_data.info()"
   ]
  },
  {
   "cell_type": "code",
   "execution_count": 9,
   "id": "42075882",
   "metadata": {},
   "outputs": [
    {
     "name": "stdout",
     "output_type": "stream",
     "text": [
      "<class 'pandas.core.frame.DataFrame'>\n",
      "RangeIndex: 3798 entries, 0 to 3797\n",
      "Data columns (total 6 columns):\n",
      " #   Column         Non-Null Count  Dtype \n",
      "---  ------         --------------  ----- \n",
      " 0   UserName       3798 non-null   int64 \n",
      " 1   ScreenName     3798 non-null   int64 \n",
      " 2   Location       2964 non-null   object\n",
      " 3   TweetAt        3798 non-null   object\n",
      " 4   OriginalTweet  3798 non-null   object\n",
      " 5   Sentiment      3798 non-null   object\n",
      "dtypes: int64(2), object(4)\n",
      "memory usage: 178.2+ KB\n"
     ]
    }
   ],
   "source": [
    "test_data.info()"
   ]
  },
  {
   "cell_type": "code",
   "execution_count": 11,
   "id": "9091a841",
   "metadata": {},
   "outputs": [
    {
     "data": {
      "text/plain": [
       "UserName            0\n",
       "ScreenName          0\n",
       "Location         8590\n",
       "TweetAt             0\n",
       "OriginalTweet       0\n",
       "Sentiment           0\n",
       "dtype: int64"
      ]
     },
     "execution_count": 11,
     "metadata": {},
     "output_type": "execute_result"
    }
   ],
   "source": [
    "train_data.isnull().sum()"
   ]
  },
  {
   "cell_type": "code",
   "execution_count": 12,
   "id": "61e4af93",
   "metadata": {},
   "outputs": [
    {
     "data": {
      "text/plain": [
       "UserName           0\n",
       "ScreenName         0\n",
       "Location         834\n",
       "TweetAt            0\n",
       "OriginalTweet      0\n",
       "Sentiment          0\n",
       "dtype: int64"
      ]
     },
     "execution_count": 12,
     "metadata": {},
     "output_type": "execute_result"
    }
   ],
   "source": [
    "test_data.isnull().sum()"
   ]
  },
  {
   "cell_type": "code",
   "execution_count": 17,
   "id": "63ec2a99",
   "metadata": {},
   "outputs": [
    {
     "data": {
      "text/plain": [
       "Index(['UserName', 'ScreenName', 'Location', 'TweetAt', 'OriginalTweet',\n",
       "       'Sentiment'],\n",
       "      dtype='object')"
      ]
     },
     "execution_count": 17,
     "metadata": {},
     "output_type": "execute_result"
    }
   ],
   "source": [
    "train_data.columns"
   ]
  },
  {
   "cell_type": "code",
   "execution_count": 18,
   "id": "a318d600",
   "metadata": {},
   "outputs": [],
   "source": [
    "#Remove Unrelevant features\n",
    "unrelevant_features = ['UserName', 'ScreenName', 'Location', 'TweetAt']\n",
    "train_data.drop(unrelevant_features , axis=1,inplace=True)"
   ]
  },
  {
   "cell_type": "code",
   "execution_count": 19,
   "id": "ff6b4e82",
   "metadata": {},
   "outputs": [],
   "source": [
    "test_data.drop(unrelevant_features , axis=1 , inplace=True)"
   ]
  },
  {
   "cell_type": "code",
   "execution_count": 20,
   "id": "9fc22936",
   "metadata": {},
   "outputs": [
    {
     "name": "stdout",
     "output_type": "stream",
     "text": [
      "Train Dataset Shape : (41157, 2)\n",
      "Test Dataset Shape : (3798, 2)\n"
     ]
    }
   ],
   "source": [
    "print(f\"Train Dataset Shape : {train_data.shape}\\nTest Dataset Shape : {test_data.shape}\")"
   ]
  },
  {
   "cell_type": "code",
   "execution_count": 21,
   "id": "0f5b684c",
   "metadata": {},
   "outputs": [
    {
     "data": {
      "text/plain": [
       "Positive              11422\n",
       "Negative               9917\n",
       "Neutral                7713\n",
       "Extremely Positive     6624\n",
       "Extremely Negative     5481\n",
       "Name: Sentiment, dtype: int64"
      ]
     },
     "execution_count": 21,
     "metadata": {},
     "output_type": "execute_result"
    }
   ],
   "source": [
    "train_data.Sentiment.value_counts()"
   ]
  },
  {
   "cell_type": "code",
   "execution_count": 22,
   "id": "9d43baf8",
   "metadata": {},
   "outputs": [],
   "source": [
    "#Separate class train data\n",
    "\n",
    "train_positive = train_data[(train_data.Sentiment == \"Positive\") | (train_data.Sentiment == \"Extremely Positive\")]\n",
    "train_negative = train_data[(train_data.Sentiment == \"Negative\") | (train_data.Sentiment == \"Extremely Negative\")]\n",
    "train_neutral = train_data[train_data.Sentiment == \"Neutral\"]"
   ]
  },
  {
   "cell_type": "code",
   "execution_count": 25,
   "id": "f60baa9b",
   "metadata": {},
   "outputs": [
    {
     "name": "stdout",
     "output_type": "stream",
     "text": [
      "train_positive Dataset Shape : (18046, 2)\n",
      "train_negative Dataset Shape : (15398, 2)\n",
      "train_neutral Dataset Shape : (7713, 2)\n"
     ]
    }
   ],
   "source": [
    "print(f\"train_positive Dataset Shape : {train_positive.shape}\\ntrain_negative Dataset Shape : {train_negative.shape}\\ntrain_neutral Dataset Shape : {train_neutral.shape}\")"
   ]
  },
  {
   "cell_type": "code",
   "execution_count": 27,
   "id": "9be3f9de",
   "metadata": {},
   "outputs": [],
   "source": [
    "#Separate class test data\n",
    "test_positive = test_data[(test_data.Sentiment == \"Positive\") | (test_data.Sentiment == \"Extremely Positive\")]\n",
    "test_negative = test_data[(test_data.Sentiment == \"Negative\") | (test_data.Sentiment == \"Extremely Negative\")]\n",
    "test_neutral  = test_data[test_data.Sentiment == \"Neutral\"]"
   ]
  },
  {
   "cell_type": "code",
   "execution_count": 28,
   "id": "03f9334a",
   "metadata": {},
   "outputs": [
    {
     "name": "stdout",
     "output_type": "stream",
     "text": [
      "test_positive Dataset Shape : (1546, 2)\n",
      "test_negative Dataset Shape : (1633, 2)\n",
      "test_neutral Dataset Shape : (619, 2)\n"
     ]
    }
   ],
   "source": [
    "print(f\"test_positive Dataset Shape : {test_positive.shape}\\ntest_negative Dataset Shape : {test_negative.shape}\\ntest_neutral Dataset Shape : {test_neutral.shape}\")"
   ]
  },
  {
   "cell_type": "code",
   "execution_count": 29,
   "id": "c4e707c9",
   "metadata": {},
   "outputs": [],
   "source": [
    "train_positive.Sentiment = 2\n",
    "test_positive.Sentiment  = 2\n",
    "\n",
    "train_negative.Sentiment = 0\n",
    "test_negative.Sentiment  = 0 \n",
    "\n",
    "train_neutral.Sentiment  = 1\n",
    "test_neutral.Sentiment   = 1"
   ]
  },
  {
   "cell_type": "code",
   "execution_count": 33,
   "id": "2fb4f20c",
   "metadata": {},
   "outputs": [
    {
     "data": {
      "text/plain": [
       "array([2])"
      ]
     },
     "execution_count": 33,
     "metadata": {},
     "output_type": "execute_result"
    }
   ],
   "source": [
    "train_positive.Sentiment.unique()"
   ]
  },
  {
   "cell_type": "code",
   "execution_count": 34,
   "id": "966a2053",
   "metadata": {},
   "outputs": [],
   "source": [
    "#Marge All DataFrame\n",
    "\n",
    "data_set = pd.concat([\n",
    "    \n",
    "    train_positive,\n",
    "    train_negative,\n",
    "    train_neutral,\n",
    "    \n",
    "    test_positive,\n",
    "    test_negative,\n",
    "    test_neutral\n",
    "    \n",
    "])"
   ]
  },
  {
   "cell_type": "code",
   "execution_count": 35,
   "id": "c4fc672c",
   "metadata": {},
   "outputs": [
    {
     "data": {
      "text/plain": [
       "(44955, 2)"
      ]
     },
     "execution_count": 35,
     "metadata": {},
     "output_type": "execute_result"
    }
   ],
   "source": [
    "data_set.shape"
   ]
  },
  {
   "cell_type": "code",
   "execution_count": 40,
   "id": "9f20b0e0",
   "metadata": {},
   "outputs": [
    {
     "name": "stdout",
     "output_type": "stream",
     "text": [
      "SAFEWAY IS HIRING Safeway is hiring for 1 000 jobs in the Maryland Virginia DC and Delaware areas to keep up with the food supply demand during the pandemic Find out how you can apply  \n",
      "Label : 0\n",
      "\n",
      "\r\n",
      "\r\n",
      "https://t.co/z8PyyAyeZR #WorkersFirst\n",
      "Label : 2\n",
      "\n",
      "\r\n",
      "\r\n",
      "#MyQuarantineInSixWords https://t.co/l9LLZqY0n6\n",
      "Label : 1\n",
      "\n",
      "@MattBlackman8 Lost home in Feb. Blessed to find affordable place to rent...&amp; then job ended. Had 2 job offers when COVID-19 hit. My 2 children, food servers, their jobs closed. Could go on but seeing this in writing is causing a panic attack. ANY hel\n",
      "Label : 0\n",
      "\n"
     ]
    }
   ],
   "source": [
    "#Dataset Exploration\n",
    "\n",
    "for i in range(1,5):\n",
    "    random_num = random.randint(0,len(data_set))\n",
    "    print(data_set.OriginalTweet[random_num] , end = \"\\nLabel : \")\n",
    "    print(data_set.Sentiment[random_num] , end = \"\\n\\n\")"
   ]
  },
  {
   "cell_type": "code",
   "execution_count": 41,
   "id": "1f6b8c86",
   "metadata": {},
   "outputs": [],
   "source": [
    "positiveFD = nltk.FreqDist(word for text in data_set[data_set[\"Sentiment\"] == 2][\"OriginalTweet\"] for word in text.lower().split())\n",
    "negativeFD = nltk.FreqDist(word  for text in data_set[data_set[\"Sentiment\"] == 0][\"OriginalTweet\"] for word in text.lower().split())\n",
    "neutralDF = nltk.FreqDist(word  for text in data_set[data_set[\"Sentiment\"] == 1][\"OriginalTweet\"] for word in text.lower().split())"
   ]
  },
  {
   "cell_type": "code",
   "execution_count": 42,
   "id": "bfdf5169",
   "metadata": {},
   "outputs": [
    {
     "data": {
      "image/png": "[encoded data removed]",
      "text/plain": [
       "<Figure size 576x432 with 1 Axes>"
      ]
     },
     "metadata": {
      "needs_background": "light"
     },
     "output_type": "display_data"
    }
   ],
   "source": [
    "plt.subplots(figsize=(8,6))\n",
    "plt.title(\"Most Used Words in Positive Tweets\")\n",
    "positiveFD.plot(50)\n",
    "plt.show()"
   ]
  },
  {
   "cell_type": "code",
   "execution_count": 43,
   "id": "bbbd8fd0",
   "metadata": {},
   "outputs": [
    {
     "data": {
      "image/png": "[encoded data removed]",
      "text/plain": [
       "<Figure size 576x432 with 1 Axes>"
      ]
     },
     "metadata": {
      "needs_background": "light"
     },
     "output_type": "display_data"
    }
   ],
   "source": [
    "plt.subplots(figsize=(8,6))\n",
    "plt.title(\"Most Used Words in Positive Tweets\")\n",
    "neutralDF.plot(50)\n",
    "plt.show()"
   ]
  },
  {
   "cell_type": "code",
   "execution_count": 46,
   "id": "5b44d068",
   "metadata": {},
   "outputs": [],
   "source": [
    "#Cleaned Dataset\n",
    "\n",
    "cleanedData = []\n",
    "\n",
    "lemmatizer = WordNetLemmatizer()\n",
    "swords = stopwords.words(\"english\")\n",
    "for text in data_set[\"OriginalTweet\"]:\n",
    "    \n",
    "    # Cleaning All links from OriginalTweet\n",
    "    text = re.sub(r'http\\S+', '', text)\n",
    "    \n",
    "    # Cleaning everything except alphabetical and numerical characters\n",
    "    text = re.sub(\"[^a-zA-Z0-9]\",\" \",text)\n",
    "    \n",
    "    # Tokenizing and lemmatizing\n",
    "    text = nltk.word_tokenize(text.lower())\n",
    "    text = [lemmatizer.lemmatize(word) for word in text]\n",
    "    \n",
    "    # Removing stopwords\n",
    "    text = [word for word in text if word not in swords]\n",
    "    \n",
    "    # Joining\n",
    "    text = \" \".join(text)\n",
    "    \n",
    "    cleanedData.append(text)"
   ]
  },
  {
   "cell_type": "code",
   "execution_count": 49,
   "id": "3fe7e877",
   "metadata": {},
   "outputs": [
    {
     "name": "stdout",
     "output_type": "stream",
     "text": [
      "advice talk neighbour family exchange phone number create contact list phone number neighbour school employer chemist gp set online shopping account po adequate supply regular med order\n",
      "\n",
      "coronavirus australia woolworth give elderly disabled dedicated shopping hour amid covid 19 outbreak\n",
      "\n",
      "food stock one empty please panic enough food everyone take need stay calm stay safe covid19france covid 19 covid19 coronavirus confinement confinementotal confinementgeneral\n",
      "\n"
     ]
    }
   ],
   "source": [
    "for a in range(0,3):\n",
    "    print(cleanedData[a] , end = \"\\n\\n\")"
   ]
  },
  {
   "cell_type": "code",
   "execution_count": 56,
   "id": "be6592ad",
   "metadata": {},
   "outputs": [],
   "source": [
    "#Featuren Extraction\n",
    "CVT = CountVectorizer(max_features=10000).fit_transform(cleanedData)\n"
   ]
  },
  {
   "cell_type": "code",
   "execution_count": 57,
   "id": "020289ee",
   "metadata": {},
   "outputs": [
    {
     "data": {
      "text/plain": [
       "scipy.sparse._csr.csr_matrix"
      ]
     },
     "execution_count": 57,
     "metadata": {},
     "output_type": "execute_result"
    }
   ],
   "source": [
    "type(CVT)"
   ]
  },
  {
   "cell_type": "code",
   "execution_count": 63,
   "id": "f323cb01",
   "metadata": {},
   "outputs": [
    {
     "name": "stdout",
     "output_type": "stream",
     "text": [
      "(33716, 10000)\n",
      "(11239, 10000)\n",
      "(33716,)\n",
      "(11239,)\n"
     ]
    }
   ],
   "source": [
    "x_train ,x_test , y_train , y_test = train_test_split(CVT ,np.asarray(data_set[\"Sentiment\"]))\n",
    "\n",
    "print(x_train.shape)\n",
    "print(x_test.shape)\n",
    "print(y_train.shape)\n",
    "print(y_test.shape)"
   ]
  },
  {
   "cell_type": "code",
   "execution_count": 65,
   "id": "c16c8e3c",
   "metadata": {},
   "outputs": [
    {
     "name": "stdout",
     "output_type": "stream",
     "text": [
      "Fitting SVC took 285.98 seconds\n"
     ]
    }
   ],
   "source": [
    "#Model Training\n",
    "\n",
    "start_time = time.time()\n",
    "\n",
    "model = SVC()\n",
    "model.fit(x_train,y_train)\n",
    "\n",
    "end_time = time.time()\n",
    "process_time = round(end_time-start_time,2)\n",
    "print(\"Fitting SVC took {} seconds\".format(process_time))\n"
   ]
  },
  {
   "cell_type": "code",
   "execution_count": 67,
   "id": "1c803518",
   "metadata": {},
   "outputs": [],
   "source": [
    "#Predict x_test data\n",
    "\n",
    "prediction = model.predict(x_test)"
   ]
  },
  {
   "cell_type": "code",
   "execution_count": 68,
   "id": "6f5fb2b7",
   "metadata": {},
   "outputs": [],
   "source": [
    "#Model Evaluation"
   ]
  },
  {
   "cell_type": "code",
   "execution_count": 69,
   "id": "a99c2b75",
   "metadata": {},
   "outputs": [
    {
     "name": "stdout",
     "output_type": "stream",
     "text": [
      "              precision    recall  f1-score   support\n",
      "\n",
      "           0       0.80      0.78      0.79      4237\n",
      "           1       0.69      0.67      0.68      2083\n",
      "           2       0.81      0.83      0.82      4919\n",
      "\n",
      "    accuracy                           0.79     11239\n",
      "   macro avg       0.77      0.76      0.77     11239\n",
      "weighted avg       0.78      0.79      0.79     11239\n",
      "\n"
     ]
    }
   ],
   "source": [
    "#classification_report \n",
    "\n",
    "cr = classification_report(y_test,prediction)\n",
    "print(cr)"
   ]
  },
  {
   "cell_type": "code",
   "execution_count": 70,
   "id": "b9182adb",
   "metadata": {},
   "outputs": [],
   "source": [
    "#Accuracy Score\n",
    "\n",
    "AS = accuracy_score(y_test,prediction)"
   ]
  },
  {
   "cell_type": "code",
   "execution_count": 74,
   "id": "54343e14",
   "metadata": {},
   "outputs": [
    {
     "data": {
      "text/plain": [
       "array([[3318,  338,  581],\n",
       "       [ 301, 1404,  378],\n",
       "       [ 524,  288, 4107]])"
      ]
     },
     "execution_count": 74,
     "metadata": {},
     "output_type": "execute_result"
    }
   ],
   "source": [
    "#Confusion Matrix\n",
    "\n",
    "cm = confusion_matrix(y_test,prediction)\n",
    "cm"
   ]
  },
  {
   "cell_type": "code",
   "execution_count": 75,
   "id": "4f9ae8a1",
   "metadata": {},
   "outputs": [
    {
     "data": {
      "text/plain": [
       "<AxesSubplot:>"
      ]
     },
     "execution_count": 75,
     "metadata": {},
     "output_type": "execute_result"
    },
    {
     "data": {
      "image/png": "[encoded data removed]",
      "text/plain": [
       "<Figure size 432x288 with 2 Axes>"
      ]
     },
     "metadata": {
      "needs_background": "light"
     },
     "output_type": "display_data"
    }
   ],
   "source": [
    "sns.heatmap(cm,annot = True)"
   ]
  }
 ],
 "metadata": {
  "kernelspec": {
   "display_name": "Python 3 (ipykernel)",
   "language": "python",
   "name": "python3"
  },
  "language_info": {
   "codemirror_mode": {
    "name": "ipython",
    "version": 3
   },
   "file_extension": ".py",
   "mimetype": "text/x-python",
   "name": "python",
   "nbconvert_exporter": "python",
   "pygments_lexer": "ipython3",
   "version": "3.10.4"
  }
 },
 "nbformat": 4,
 "nbformat_minor": 5
}
